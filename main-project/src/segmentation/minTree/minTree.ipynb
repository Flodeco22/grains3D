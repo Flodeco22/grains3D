{
 "cells": [
  {
   "cell_type": "markdown",
   "metadata": {},
   "source": [
    "## minTree\n",
    "This program uses minTree filtering for grain extraction.\n",
    "\n",
    "Previous = (Core extraction with min-tree.          This program uses min-tree filtering for core extraction. Filtering parameters shoudl automatically adapt with most of the EFR greyscale subresolutions, but feel free to experiment with other values if needed.)"
   ]
  },
  {
   "cell_type": "markdown",
   "metadata": {},
   "source": [
    "## More information\n",
    "\n",
    "- argparse : to manage command line arguments.\n",
    "- os : for manipulating file paths.\n",
    "- tifffile : for reading and writing TIFF files.\n",
    "- numpy (alias np) : for manipulating numerical vectors.\n",
    "- timeit for timer() : to measure execution time.\n",
    "- gc : for manual memory management via the garbage collector.\n",
    "- hg : an image processing library (a hierarchical processing library).\n",
    "\n",
    "#### French\n",
    "\n",
    "- argparse : pour gérer les arguments de la ligne de commande.\n",
    "- os : pour manipuler les chemins de fichiers.\n",
    "- tifffile : pour lire et écrire des fichiers TIFF.\n",
    "- numpy (alias np) : pour manipuler les tableaux numériques.\n",
    "- timeit pour le timer() : pour mesurer le temps d'exécution.\n",
    "- gc : pour la gestion manuelle de la mémoire via le ramasse-miettes.\n",
    "- hg : une bibliothèque de traitement d'images (une bibliothèque de traitement par hiérarchies)."
   ]
  },
  {
   "cell_type": "markdown",
   "metadata": {},
   "source": [
    "# Code"
   ]
  },
  {
   "cell_type": "code",
   "execution_count": null,
   "metadata": {},
   "outputs": [],
   "source": [
    "__author__ = \"Lysandre Macke\"\n",
    "# Adapted by Jonathan Palisse\n",
    "__contact__ = \"lmacke@unistra.com\""
   ]
  },
  {
   "cell_type": "markdown",
   "metadata": {},
   "source": [
    "### Imports"
   ]
  },
  {
   "cell_type": "code",
   "execution_count": 9,
   "metadata": {},
   "outputs": [],
   "source": [
    "import warnings\n",
    "with warnings.catch_warnings():\n",
    "    warnings.simplefilter(\"ignore\")\n",
    "    import higra as hg # ignore the generated warnings\n",
    "\n",
    "import argparse\n",
    "import numpy as np\n",
    "import skimage.morphology as morph\n",
    "from skimage.measure import label\n",
    "import tifffile # tiff file manipulation\n",
    "import os\n",
    "from dstyle import *\n",
    "from timeit import default_timer as timer\n",
    "import gc"
   ]
  },
  {
   "cell_type": "markdown",
   "metadata": {},
   "source": [
    "### Command-line program management\n",
    "\n",
    "Command example : \\\n",
    "python minTree/minTree.py image.tif 6\\\n",
    "python minTree/minTree --help"
   ]
  },
  {
   "cell_type": "code",
   "execution_count": null,
   "metadata": {},
   "outputs": [],
   "source": [
    "parser = argparse.ArgumentParser(\n",
    "                    prog = \"minTree\",\n",
    "                    description = \"Core extraction with minTree.\")\n",
    "\n",
    "parser.add_argument(\"file\", help=\"The path to the tiff file.\")\n",
    "parser.add_argument(\"adjacency\", help=\"Adjacency of the mask (6 or 26)\")\n",
    "\n",
    "args = parser.parse_args()\n",
    "filepath = args.file\n",
    "filename = os.path.splitext(os.path.basename(filepath))[0]\n",
    "adjacency = args.adjacency"
   ]
  },
  {
   "cell_type": "markdown",
   "metadata": {},
   "source": [
    "### Initialise tools and display animation"
   ]
  },
  {
   "cell_type": "code",
   "execution_count": null,
   "metadata": {},
   "outputs": [],
   "source": [
    "timestamp_0 = timer()\n",
    "gc.disable()\n",
    "animation:TermLoading = TermLoading()\n",
    "animation.show(\"Processing \" + filename,\n",
    "    finish_message = \"\\x1b[2K-- Binarization done.\",\n",
    "    failed_message = \"\\x1b[2K-- Error occured while processing data.\")"
   ]
  },
  {
   "cell_type": "markdown",
   "metadata": {},
   "source": [
    "#### TIFF image loading and 8-bit conversion"
   ]
  },
  {
   "cell_type": "code",
   "execution_count": null,
   "metadata": {},
   "outputs": [],
   "source": [
    "with tifffile.TiffFile(filepath) as tif:\n",
    "    image = np.array([page.asarray() for page in tif.pages])\n",
    "\n",
    "image = (image/256).astype(\"uint8\")"
   ]
  },
  {
   "cell_type": "markdown",
   "metadata": {},
   "source": [
    "#### Creating the result image and configuring the graph\n",
    "\n",
    "neighbours is a formal representation of the connections between pixels \\\n",
    "https://higra.readthedocs.io/en/stable/python/graph_image.html"
   ]
  },
  {
   "cell_type": "code",
   "execution_count": null,
   "metadata": {},
   "outputs": [],
   "source": [
    "res = np.zeros_like(image)\n",
    "\n",
    "if (adjacency == 26):\n",
    "    # 26 adjacency implicit graph\n",
    "    mask = [[[1, 1, 1], [1, 1, 1], [1, 1, 1]],\n",
    "            [[1, 1, 1], [1, 0, 1], [1, 1, 1]],\n",
    "            [[1, 1, 1], [1, 1, 1], [1, 1, 1]]]\n",
    "else:\n",
    "    # 6 adjacency implicit graph\n",
    "    mask = [[[0, 0, 0], [0, 1, 0], [0, 0, 0]],\n",
    "            [[0, 1, 0], [1, 0, 1], [0, 1, 0]],\n",
    "            [[0, 0, 0], [0, 1, 0], [0, 0, 0]]]\n",
    "\n",
    "neighbours = hg.mask_2_neighbours(mask)\n",
    "graph = hg.get_nd_regular_implicit_graph(image.shape, neighbours)"
   ]
  },
  {
   "cell_type": "markdown",
   "metadata": {},
   "source": [
    "#### Building the minimal tree and calculating attributes"
   ]
  },
  {
   "cell_type": "code",
   "execution_count": null,
   "metadata": {},
   "outputs": [],
   "source": [
    "# construct min tree from image\n",
    "tree, altitudes = hg.component_tree_min_tree(graph, image)\n",
    "\n",
    "# compute attributes\n",
    "area = hg.attribute_area(tree)\n",
    "height = hg.attribute_height(tree, altitudes)\n",
    "\n",
    "depth = hg.attribute_depth(tree)"
   ]
  },
  {
   "cell_type": "markdown",
   "metadata": {},
   "source": [
    "#### Tree simplification\n",
    "\n",
    "You can change the values in np.logical_or()"
   ]
  },
  {
   "cell_type": "code",
   "execution_count": null,
   "metadata": {},
   "outputs": [],
   "source": [
    "max_height = np.max(height)\n",
    "min_area   = np.min(area)\n",
    "avg_area   = np.average(area)\n",
    "\n",
    "# remove unwanted nodes\n",
    "# the nodes we want to keep have a strong value and a small area\n",
    "# unwanted_nodes = np.logical_or(height < 0.16*max_height, area > 0.65*avg_area)\n",
    "unwanted_nodes = np.logical_or(height < 0.14*max_height,   area > avg_area)\n",
    "\n",
    "tree, node = hg.simplify_tree(tree, unwanted_nodes)\n",
    "new_altitudes = altitudes[node]"
   ]
  },
  {
   "cell_type": "markdown",
   "metadata": {},
   "source": [
    "#### Image reconstruction"
   ]
  },
  {
   "cell_type": "code",
   "execution_count": null,
   "metadata": {},
   "outputs": [],
   "source": [
    "# reconstruct tree\n",
    "res = hg.reconstruct_leaf_data(tree, new_altitudes)\n",
    "res = (res < np.max(res)).astype(int)*255\n",
    "\n",
    "output_name = filename + \"_minTree_segment_raw.tif\"\n",
    "\n",
    "animation.finished = True\n",
    "animation.show(\"Saving result to \" + output_name,\n",
    "    finish_message = \"\\x1b[2K-- Generated \" + output_name + \" successfully \" + \\\n",
    "                        \"(time : %.2f s)\" % (timer() - timestamp_0),\n",
    "    failed_message = \"\\x1b[2K-- Error occured while saving result.\")"
   ]
  },
  {
   "cell_type": "markdown",
   "metadata": {},
   "source": [
    "#### Saving the TIFF file and cleaning\n",
    "\n",
    "Ici ça lance Gmic, faut changer parce que on n'a pas ce qu'il faut en terme de RAM"
   ]
  },
  {
   "cell_type": "code",
   "execution_count": null,
   "metadata": {},
   "outputs": [],
   "source": [
    "# write out file...\n",
    "tifffile.imwrite(output_name, res)\n",
    "\n",
    "animation.finished = True\n",
    "os.system(\"gmic \" + output_name + \" a z\")       #Problem\n",
    "gc.enable()\n",
    "exit(0)"
   ]
  }
 ],
 "metadata": {
  "kernelspec": {
   "display_name": "Python 3",
   "language": "python",
   "name": "python3"
  },
  "language_info": {
   "codemirror_mode": {
    "name": "ipython",
    "version": 3
   },
   "file_extension": ".py",
   "mimetype": "text/x-python",
   "name": "python",
   "nbconvert_exporter": "python",
   "pygments_lexer": "ipython3",
   "version": "3.8.10"
  }
 },
 "nbformat": 4,
 "nbformat_minor": 4
}
