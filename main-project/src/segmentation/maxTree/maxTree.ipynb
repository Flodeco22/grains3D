{
 "cells": [
  {
   "cell_type": "markdown",
   "metadata": {},
   "source": [
    "## minTree\n",
    "This code performs image segmentation using a max-tree algorithm to process a 3D greyscale image and an initial core segmentation.\n",
    "\n",
    "Previous = (This file is a copy of the maxtree_new.py program.      New maxtree segmentation : considering a core segmentation, add it to the original image putting its value as a maximum value. The cores will correspond to leaves and the grains will be direct parents.)"
   ]
  },
  {
   "cell_type": "markdown",
   "metadata": {},
   "source": [
    "## More information\n",
    "\n",
    "- warning : Warning management\n",
    "- argparse : To manage command line arguments.\n",
    "- tifffile : For reading and writing TIFF files.\n",
    "- numpy (alias np) : For manipulating numerical vectors.\n",
    "- skimage : Image processing\n",
    "- hg : An image processing library (a hierarchical processing library).\n",
    "\n",
    "#### French\n",
    "\n",
    "- warning : Gestion des avertissements\n",
    "- argparse : Pour gérer les arguments de la ligne de commande.\n",
    "- tifffile : Pour lire et écrire des fichiers TIFF.\n",
    "- numpy (alias np) : Pour manipuler les tableaux numériques.\n",
    "- skimage : Traitement d'images\n",
    "- hg : Une bibliothèque de traitement d'images (une bibliothèque de traitement par hiérarchies)."
   ]
  },
  {
   "cell_type": "markdown",
   "metadata": {},
   "source": [
    "# Code"
   ]
  },
  {
   "cell_type": "code",
   "execution_count": null,
   "metadata": {},
   "outputs": [],
   "source": [
    "__author__ = \"Lysandre Macke\"\n",
    "# Adapted by Jonathan Palisse\n",
    "__contact__ = \"lmacke@unistra.com\""
   ]
  },
  {
   "cell_type": "markdown",
   "metadata": {},
   "source": [
    "### Imports"
   ]
  },
  {
   "cell_type": "code",
   "execution_count": 9,
   "metadata": {},
   "outputs": [],
   "source": [
    "import warnings\n",
    "with warnings.catch_warnings():\n",
    "    warnings.simplefilter(\"ignore\")\n",
    "    import higra as hg # ignore the generated warnings\n",
    "\n",
    "import argparse\n",
    "import numpy as np\n",
    "import skimage.morphology as morph\n",
    "from skimage.measure import label\n",
    "import tifffile # tiff file manipulation"
   ]
  },
  {
   "cell_type": "markdown",
   "metadata": {},
   "source": [
    "### Command-line program management\n",
    "\n",
    "Command example : \\\n",
    "python maxTree.py image.tif noyau.tif 6\\\n",
    "python maxTree --help"
   ]
  },
  {
   "cell_type": "code",
   "execution_count": null,
   "metadata": {},
   "outputs": [],
   "source": [
    "parser = argparse.ArgumentParser(\n",
    "                    prog = \"maxtree\",\n",
    "                    description = \"test program.\",\n",
    "                    epilog = \"For any question please contact me at lysandre.macke@unicaen.fr.\")\n",
    "\n",
    "parser.add_argument(\"file\", help = \"The path to the tiff file (shall be 3D grayscale)\")\n",
    "parser.add_argument(\"markers\", help = \"Path to cores segmentation (background shall be black)\")\n",
    "parser.add_argument(\"adjacency\", help=\"Adjacency of the mask (6 or 26)\")\n",
    "\n",
    "args = parser.parse_args()\n",
    "image_filepath = args.file\n",
    "seed_filepath = args.markers\n",
    "adjacency = args.adjacency"
   ]
  },
  {
   "cell_type": "markdown",
   "metadata": {},
   "source": [
    "#### TIFF image loading and 8-bit conversion"
   ]
  },
  {
   "cell_type": "code",
   "execution_count": null,
   "metadata": {},
   "outputs": [],
   "source": [
    "# image = cv2.imread(filepath, cv2.IMREAD_GRAYSCALE)\n",
    "with tifffile.TiffFile(image_filepath) as tif:\n",
    "    image = np.array([page.asarray() for page in tif.pages])\n",
    "\n",
    "with tifffile.TiffFile(seed_filepath) as tif:\n",
    "    cores = np.array([page.asarray() for page in tif.pages])\n",
    "\n",
    "# convert to 8 bits\n",
    "image = (image/256).astype(\"uint\")\n",
    "print(\"loaded image has shape :\", image.shape)"
   ]
  },
  {
   "cell_type": "markdown",
   "metadata": {},
   "source": [
    "#### Creating the result image and configuring the graph\n",
    "\n",
    "neighbours is a formal representation of the connections between pixels \\\n",
    "https://higra.readthedocs.io/en/stable/python/graph_image.html"
   ]
  },
  {
   "cell_type": "code",
   "execution_count": null,
   "metadata": {},
   "outputs": [],
   "source": [
    "if (adjacency == 26):\n",
    "    # 26 adjacency implicit graph\n",
    "    mask = [[[1, 1, 1], [1, 1, 1], [1, 1, 1]],\n",
    "            [[1, 1, 1], [1, 0, 1], [1, 1, 1]],\n",
    "            [[1, 1, 1], [1, 1, 1], [1, 1, 1]]]\n",
    "else:\n",
    "    # 6 adjacency implicit graph\n",
    "    mask = [[[0, 0, 0], [0, 1, 0], [0, 0, 0]],\n",
    "            [[0, 1, 0], [1, 0, 1], [0, 1, 0]],\n",
    "            [[0, 0, 0], [0, 1, 0], [0, 0, 0]]]\n",
    "\n",
    "neighbours = hg.mask_2_neighbours(mask)\n",
    "graph = hg.get_nd_regular_implicit_graph(image.shape, neighbours)"
   ]
  },
  {
   "cell_type": "markdown",
   "metadata": {},
   "source": [
    "#### Merging Image and Markers"
   ]
  },
  {
   "cell_type": "code",
   "execution_count": null,
   "metadata": {},
   "outputs": [],
   "source": [
    "# overlap two images\n",
    "cores = morph.dilation(cores, morph.ball(2.2))\n",
    "\n",
    "components = label(cores, return_num=True)\n",
    "total = components[1]\n",
    "print(\"number of cores in the image :\", total)\n",
    "\n",
    "cores_val = image.max() + 1\n",
    "image[cores > 0] = cores_val\n",
    "\n",
    "tifffile.imwrite(\"tmp.tiff\", image)"
   ]
  },
  {
   "cell_type": "markdown",
   "metadata": {},
   "source": [
    "#### Building the maximal tree"
   ]
  },
  {
   "cell_type": "code",
   "execution_count": null,
   "metadata": {},
   "outputs": [],
   "source": [
    "# construct max tree from image\n",
    "tree, altitudes = hg.component_tree_max_tree(graph, image)"
   ]
  },
  {
   "cell_type": "markdown",
   "metadata": {},
   "source": [
    "#### Calculating attributes and computing labels"
   ]
  },
  {
   "cell_type": "code",
   "execution_count": null,
   "metadata": {},
   "outputs": [],
   "source": [
    "parents = tree.parents()\n",
    "parents_size = len(parents)\n",
    "labels = [0 for _ in range(parents_size)]\n",
    "count  = [0 for _ in range(parents_size)]\n",
    "\n",
    "depth = hg.attribute_depth(tree)\n",
    "min_depth = 0.05*depth.max()\n",
    "\n",
    "label_index = 0\n",
    "\n",
    "print(\"start computing attributes\")\n",
    "# place attribute\n",
    "for leaf in tree.leaves():\n",
    "    # if we are in a new core region\n",
    "    if(altitudes[leaf] == cores_val and count[tree.parent(leaf)] == 0):\n",
    "        node = leaf\n",
    "        while(node != tree.root()):\n",
    "            count[node] += 1\n",
    "            labels[node] = label_index\n",
    "            node = tree.parent(node)\n",
    "            \n",
    "        label_index += 1"
   ]
  },
  {
   "cell_type": "markdown",
   "metadata": {},
   "source": [
    "#### Node filtering"
   ]
  },
  {
   "cell_type": "code",
   "execution_count": null,
   "metadata": {},
   "outputs": [],
   "source": [
    "print(\"filtering...\")\n",
    "for node in tree.leaves_to_root_iterator(include_leaves = False, include_root = True):\n",
    "    if(count[node] > 1):\n",
    "        labels[node] = 0"
   ]
  },
  {
   "cell_type": "markdown",
   "metadata": {},
   "source": [
    "#### Image reconstruction and saving"
   ]
  },
  {
   "cell_type": "code",
   "execution_count": null,
   "metadata": {},
   "outputs": [],
   "source": [
    "labels = np.asarray(labels)\n",
    "res = hg.reconstruct_leaf_data(tree, labels)\n",
    "tifffile.imwrite(\"res.tif\", res)"
   ]
  },
  {
   "cell_type": "markdown",
   "metadata": {},
   "source": [
    "#### Print information"
   ]
  },
  {
   "cell_type": "code",
   "execution_count": null,
   "metadata": {},
   "outputs": [],
   "source": [
    "components = label(res, return_num=True)\n",
    "total = components[1]\n",
    "print(\"number of components in the image :\", total)\n",
    "print(\"number of labels :\", max(labels))"
   ]
  }
 ],
 "metadata": {
  "kernelspec": {
   "display_name": "Python 3",
   "language": "python",
   "name": "python3"
  },
  "language_info": {
   "codemirror_mode": {
    "name": "ipython",
    "version": 3
   },
   "file_extension": ".py",
   "mimetype": "text/x-python",
   "name": "python",
   "nbconvert_exporter": "python",
   "pygments_lexer": "ipython3",
   "version": "3.8.10"
  }
 },
 "nbformat": 4,
 "nbformat_minor": 4
}
